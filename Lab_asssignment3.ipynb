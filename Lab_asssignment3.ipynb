{
  "nbformat": 4,
  "nbformat_minor": 0,
  "metadata": {
    "colab": {
      "name": "Lab_asssignment3.ipynb",
      "provenance": [],
      "collapsed_sections": []
    },
    "kernelspec": {
      "name": "python3",
      "display_name": "Python 3"
    },
    "language_info": {
      "name": "python"
    }
  },
  "cells": [
    {
      "cell_type": "code",
      "metadata": {
        "colab": {
          "base_uri": "https://localhost:8080/"
        },
        "id": "sc85WU4BLFgj",
        "outputId": "7c01bcb5-056a-46e8-d02a-839cd8498177"
      },
      "source": [
        "#PROBLEM 1\n",
        "\n",
        "class student:\n",
        "  def data(self):\n",
        "    self.name=input(\"Enter the name of student:  \")\n",
        "    self.regno=int(input(\"Enter the registration number of student: \"))\n",
        "    self.age=int(input(\"Enter the age of student: \"))\n",
        "    self.gender=input(\"Enter the gender of student: \")\n",
        "    self.branch=input(\"Enter the branch of student: \")\n",
        "    self.sem=int(input(\"Enter the semester of student: \"))\n",
        "\n",
        "  def show(self):\n",
        "    print(f\"\\n Name: {self.name}\\n Reg. no: {(self.regno)}\\n Age: {(self.age)}\\n Gender:{self.gender}\\n Branch: {self.branch}\\n Semester: {self.sem}\")\n",
        "\n",
        "class ResultInfo(student):\n",
        "  def __init__(self, totalMarks, percentage, grade):\n",
        "    self.totalMarks = totalMarks\n",
        "    self.percentage = percentage\n",
        "    self.grade = grade\n",
        "\n",
        "  def show1(self):\n",
        "    print(\"\\n\\n   Basic Information of the student :  \")\n",
        "    self.show()\n",
        "    print(f\"\\n  Students Result:   \\n\\n Total marks: {(self.totalMarks)}\\n Percentage: {(self.percentage)} % Grade: {self.grade}\")\n",
        "\n",
        "std1 = ResultInfo(471, 94.20, 'A+')\n",
        "std1.data()\n",
        "std1.show()\n",
        "std1.show1()\n"
      ],
      "execution_count": 4,
      "outputs": [
        {
          "output_type": "stream",
          "name": "stdout",
          "text": [
            "Enter the name of student:  Ravi\n",
            "Enter the registration number of student: 486\n",
            "Enter the age of student: 18\n",
            "Enter the gender of student: Male\n",
            "Enter the branch of student: Electeonics\n",
            "Enter the semester of student: 2\n",
            "\n",
            " Name: Ravi\n",
            " Reg. no: 486\n",
            " Age: 18\n",
            " Gender:Male\n",
            " Branch: Electeonics\n",
            " Semester: 2\n",
            "\n",
            "\n",
            "   Basic Information of the student :  \n",
            "\n",
            " Name: Ravi\n",
            " Reg. no: 486\n",
            " Age: 18\n",
            " Gender:Male\n",
            " Branch: Electeonics\n",
            " Semester: 2\n",
            "\n",
            "  Students Result:   \n",
            "\n",
            " Total marks: 471\n",
            " Percentage: 94.2 % Grade: A+\n"
          ]
        }
      ]
    },
    {
      "cell_type": "code",
      "metadata": {
        "colab": {
          "base_uri": "https://localhost:8080/"
        },
        "id": "zNTCTGnfO8ub",
        "outputId": "2cb279fd-1d7c-4ff5-c1f4-69cfdfc5ba21"
      },
      "source": [
        "#PROBLEM 2\n",
        "\n",
        "class pdf:\n",
        "  def __init__(self, created, description, size):\n",
        "    self.created = created\n",
        "    self.description = description\n",
        "    self.size = size\n",
        "\n",
        "  def show(self):\n",
        "    print(\"Created by:\",self.created)\n",
        "    print(\"Description:\", self.description)\n",
        "    print(\"File size (in KBs):\", self.size)\n",
        "\n",
        "  def sizelim(self):\n",
        "    if self.size > 256:\n",
        "      print(\"Size exceeds threshold.\\n\")\n",
        "    else:\n",
        "      print(\"Size is within the threshold.\\n\")\n",
        "\n",
        "class Pictures(pdf):\n",
        "  def __init__(self, created, description, size, dimension):\n",
        "    super().__init__(created, description, size)\n",
        "    self.dimension = dimension\n",
        "\n",
        "  def show1(self):\n",
        "    self.show()\n",
        "    print(\"Dimensions (in pixels):\", self.dimension)\n",
        "\n",
        "  def dimensionlim(self):\n",
        "    if self.dimension>2000:\n",
        "      print(\" high dimension!\\n\")\n",
        "    else:\n",
        "      print(\" dimensions are fine.\\n\")\n",
        "      \n",
        "pdf1 = pdf(\"OOPS\", \"PYTHON\", 14.7)\n",
        "pdf1.show()\n",
        "pdf1.sizelim()\n",
        "print()\n",
        "img = Pictures(\"GALAXY\", \"SPACE\", 5149856, 1234)\n",
        "img.show1()\n",
        "img.dimensionlim()"
      ],
      "execution_count": 5,
      "outputs": [
        {
          "output_type": "stream",
          "name": "stdout",
          "text": [
            "Created by: OOPS\n",
            "Description: PYTHON\n",
            "File size (in KBs): 14.7\n",
            "Size is within the threshold.\n",
            "\n",
            "\n",
            "Created by: GALAXY\n",
            "Description: SPACE\n",
            "File size (in KBs): 5149856\n",
            "Dimensions (in pixels): 1234\n",
            " dimensions are fine.\n",
            "\n"
          ]
        }
      ]
    },
    {
      "cell_type": "code",
      "metadata": {
        "colab": {
          "base_uri": "https://localhost:8080/"
        },
        "id": "YPLp5h9yT33e",
        "outputId": "7df394ec-1def-45cd-ebac-a08e85c3a25c"
      },
      "source": [
        "#PROBLEM 3\n",
        "\n",
        "\n",
        "class Vehicle:\n",
        "    def __init__(self, name, mileage, capacity):\n",
        "        self.name = name\n",
        "        self.mileage = mileage\n",
        "        self.capacity = capacity\n",
        "\n",
        "    def cap(self):\n",
        "        return self.capacity * 100\n",
        "\n",
        "class Bus(Vehicle):\n",
        "    def __init__(self, name, mileage, capacity=50):\n",
        "        Vehicle.__init__(self, name, mileage, capacity)\n",
        "        self.finalAmount = Vehicle.cap(self) * 1.1\n",
        "\n",
        "    def busFare(self):\n",
        "        print(f\"Total Fare : {self.finalAmount}\")\n",
        "\n",
        "car1 = Vehicle(\"Mercedes\", 10, 4)\n",
        "print(f\"Car Fare : {car1.cap()}\")\n",
        "bus1 = Bus(\"Government Service\", 12, 32)\n",
        "bus1.busFare()"
      ],
      "execution_count": 7,
      "outputs": [
        {
          "output_type": "stream",
          "name": "stdout",
          "text": [
            "Car Fare : 400\n",
            "Total Fare : 3520.0000000000005\n"
          ]
        }
      ]
    },
    {
      "cell_type": "code",
      "metadata": {
        "id": "30CzMRaHUeDa"
      },
      "source": [
        ""
      ],
      "execution_count": null,
      "outputs": []
    }
  ]
}